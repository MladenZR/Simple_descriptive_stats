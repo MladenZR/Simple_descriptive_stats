{
 "cells": [
  {
   "cell_type": "code",
   "execution_count": 1,
   "id": "10a3b11b",
   "metadata": {},
   "outputs": [],
   "source": [
    "import numpy as np # linear algebra\n",
    "import pandas as pd # data processing\n",
    "import seaborn as sns\n",
    "import matplotlib.pyplot as plt"
   ]
  },
  {
   "cell_type": "code",
   "execution_count": 2,
   "id": "d7c0b010",
   "metadata": {},
   "outputs": [],
   "source": [
    "data = pd.read_csv('BTC.csv')"
   ]
  },
  {
   "cell_type": "code",
   "execution_count": 3,
   "id": "922f22ff",
   "metadata": {},
   "outputs": [
    {
     "data": {
      "text/html": [
       "<div>\n",
       "<style scoped>\n",
       "    .dataframe tbody tr th:only-of-type {\n",
       "        vertical-align: middle;\n",
       "    }\n",
       "\n",
       "    .dataframe tbody tr th {\n",
       "        vertical-align: top;\n",
       "    }\n",
       "\n",
       "    .dataframe thead th {\n",
       "        text-align: right;\n",
       "    }\n",
       "</style>\n",
       "<table border=\"1\" class=\"dataframe\">\n",
       "  <thead>\n",
       "    <tr style=\"text-align: right;\">\n",
       "      <th></th>\n",
       "      <th>Date</th>\n",
       "      <th>Open</th>\n",
       "      <th>High</th>\n",
       "      <th>Low</th>\n",
       "      <th>Close</th>\n",
       "      <th>Adj Close</th>\n",
       "      <th>Volume</th>\n",
       "    </tr>\n",
       "  </thead>\n",
       "  <tbody>\n",
       "    <tr>\n",
       "      <th>0</th>\n",
       "      <td>2019-02-25</td>\n",
       "      <td>3771.620117</td>\n",
       "      <td>3885.060059</td>\n",
       "      <td>3771.530029</td>\n",
       "      <td>3845.510010</td>\n",
       "      <td>3845.510010</td>\n",
       "      <td>185036583</td>\n",
       "    </tr>\n",
       "    <tr>\n",
       "      <th>1</th>\n",
       "      <td>2019-02-26</td>\n",
       "      <td>3845.510010</td>\n",
       "      <td>3852.659912</td>\n",
       "      <td>3791.899902</td>\n",
       "      <td>3817.879883</td>\n",
       "      <td>3817.879883</td>\n",
       "      <td>126868886</td>\n",
       "    </tr>\n",
       "    <tr>\n",
       "      <th>2</th>\n",
       "      <td>2019-02-27</td>\n",
       "      <td>3817.879883</td>\n",
       "      <td>3851.840088</td>\n",
       "      <td>3699.530029</td>\n",
       "      <td>3830.719971</td>\n",
       "      <td>3830.719971</td>\n",
       "      <td>175069054</td>\n",
       "    </tr>\n",
       "    <tr>\n",
       "      <th>3</th>\n",
       "      <td>2019-02-28</td>\n",
       "      <td>3830.719971</td>\n",
       "      <td>3909.860107</td>\n",
       "      <td>3798.000000</td>\n",
       "      <td>3823.370117</td>\n",
       "      <td>3823.370117</td>\n",
       "      <td>170646670</td>\n",
       "    </tr>\n",
       "    <tr>\n",
       "      <th>4</th>\n",
       "      <td>2019-03-01</td>\n",
       "      <td>3823.370117</td>\n",
       "      <td>3866.120117</td>\n",
       "      <td>3822.669922</td>\n",
       "      <td>3831.479980</td>\n",
       "      <td>3831.479980</td>\n",
       "      <td>101774924</td>\n",
       "    </tr>\n",
       "  </tbody>\n",
       "</table>\n",
       "</div>"
      ],
      "text/plain": [
       "         Date         Open         High          Low        Close  \\\n",
       "0  2019-02-25  3771.620117  3885.060059  3771.530029  3845.510010   \n",
       "1  2019-02-26  3845.510010  3852.659912  3791.899902  3817.879883   \n",
       "2  2019-02-27  3817.879883  3851.840088  3699.530029  3830.719971   \n",
       "3  2019-02-28  3830.719971  3909.860107  3798.000000  3823.370117   \n",
       "4  2019-03-01  3823.370117  3866.120117  3822.669922  3831.479980   \n",
       "\n",
       "     Adj Close     Volume  \n",
       "0  3845.510010  185036583  \n",
       "1  3817.879883  126868886  \n",
       "2  3830.719971  175069054  \n",
       "3  3823.370117  170646670  \n",
       "4  3831.479980  101774924  "
      ]
     },
     "execution_count": 3,
     "metadata": {},
     "output_type": "execute_result"
    }
   ],
   "source": [
    "data.head()"
   ]
  },
  {
   "cell_type": "code",
   "execution_count": 4,
   "id": "8d7bf9bc",
   "metadata": {},
   "outputs": [
    {
     "name": "stdout",
     "output_type": "stream",
     "text": [
      "<class 'pandas.core.frame.DataFrame'>\n",
      "RangeIndex: 29 entries, 0 to 28\n",
      "Data columns (total 7 columns):\n",
      " #   Column     Non-Null Count  Dtype  \n",
      "---  ------     --------------  -----  \n",
      " 0   Date       29 non-null     object \n",
      " 1   Open       29 non-null     float64\n",
      " 2   High       29 non-null     float64\n",
      " 3   Low        29 non-null     float64\n",
      " 4   Close      29 non-null     float64\n",
      " 5   Adj Close  29 non-null     float64\n",
      " 6   Volume     29 non-null     int64  \n",
      "dtypes: float64(5), int64(1), object(1)\n",
      "memory usage: 1.7+ KB\n"
     ]
    }
   ],
   "source": [
    "data.info()"
   ]
  },
  {
   "cell_type": "code",
   "execution_count": 5,
   "id": "b97ba0fc",
   "metadata": {},
   "outputs": [
    {
     "data": {
      "text/plain": [
       "(29, 7)"
      ]
     },
     "execution_count": 5,
     "metadata": {},
     "output_type": "execute_result"
    }
   ],
   "source": [
    "data.shape"
   ]
  },
  {
   "cell_type": "code",
   "execution_count": 6,
   "id": "e498951e",
   "metadata": {},
   "outputs": [
    {
     "data": {
      "text/html": [
       "<div>\n",
       "<style scoped>\n",
       "    .dataframe tbody tr th:only-of-type {\n",
       "        vertical-align: middle;\n",
       "    }\n",
       "\n",
       "    .dataframe tbody tr th {\n",
       "        vertical-align: top;\n",
       "    }\n",
       "\n",
       "    .dataframe thead th {\n",
       "        text-align: right;\n",
       "    }\n",
       "</style>\n",
       "<table border=\"1\" class=\"dataframe\">\n",
       "  <thead>\n",
       "    <tr style=\"text-align: right;\">\n",
       "      <th></th>\n",
       "      <th>Open</th>\n",
       "      <th>High</th>\n",
       "      <th>Low</th>\n",
       "      <th>Close</th>\n",
       "      <th>Adj Close</th>\n",
       "      <th>Volume</th>\n",
       "    </tr>\n",
       "  </thead>\n",
       "  <tbody>\n",
       "    <tr>\n",
       "      <th>count</th>\n",
       "      <td>29.000000</td>\n",
       "      <td>29.000000</td>\n",
       "      <td>29.000000</td>\n",
       "      <td>29.000000</td>\n",
       "      <td>29.000000</td>\n",
       "      <td>2.900000e+01</td>\n",
       "    </tr>\n",
       "    <tr>\n",
       "      <th>mean</th>\n",
       "      <td>3904.440000</td>\n",
       "      <td>3946.428635</td>\n",
       "      <td>3864.819294</td>\n",
       "      <td>3911.985520</td>\n",
       "      <td>3911.985520</td>\n",
       "      <td>1.203751e+08</td>\n",
       "    </tr>\n",
       "    <tr>\n",
       "      <th>std</th>\n",
       "      <td>84.941594</td>\n",
       "      <td>75.726294</td>\n",
       "      <td>90.531435</td>\n",
       "      <td>82.402699</td>\n",
       "      <td>82.402699</td>\n",
       "      <td>4.070689e+07</td>\n",
       "    </tr>\n",
       "    <tr>\n",
       "      <th>min</th>\n",
       "      <td>3731.280029</td>\n",
       "      <td>3831.010010</td>\n",
       "      <td>3699.530029</td>\n",
       "      <td>3731.280029</td>\n",
       "      <td>3731.280029</td>\n",
       "      <td>3.189176e+07</td>\n",
       "    </tr>\n",
       "    <tr>\n",
       "      <th>25%</th>\n",
       "      <td>3842.939941</td>\n",
       "      <td>3893.520020</td>\n",
       "      <td>3798.000000</td>\n",
       "      <td>3845.510010</td>\n",
       "      <td>3845.510010</td>\n",
       "      <td>9.072656e+07</td>\n",
       "    </tr>\n",
       "    <tr>\n",
       "      <th>50%</th>\n",
       "      <td>3881.439941</td>\n",
       "      <td>3932.020020</td>\n",
       "      <td>3853.060059</td>\n",
       "      <td>3882.610107</td>\n",
       "      <td>3882.610107</td>\n",
       "      <td>1.268689e+08</td>\n",
       "    </tr>\n",
       "    <tr>\n",
       "      <th>75%</th>\n",
       "      <td>3994.129883</td>\n",
       "      <td>4018.209961</td>\n",
       "      <td>3964.310059</td>\n",
       "      <td>3994.110107</td>\n",
       "      <td>3994.110107</td>\n",
       "      <td>1.484907e+08</td>\n",
       "    </tr>\n",
       "    <tr>\n",
       "      <th>max</th>\n",
       "      <td>4056.750000</td>\n",
       "      <td>4082.290039</td>\n",
       "      <td>3995.489990</td>\n",
       "      <td>4056.750000</td>\n",
       "      <td>4056.750000</td>\n",
       "      <td>1.850366e+08</td>\n",
       "    </tr>\n",
       "  </tbody>\n",
       "</table>\n",
       "</div>"
      ],
      "text/plain": [
       "              Open         High          Low        Close    Adj Close  \\\n",
       "count    29.000000    29.000000    29.000000    29.000000    29.000000   \n",
       "mean   3904.440000  3946.428635  3864.819294  3911.985520  3911.985520   \n",
       "std      84.941594    75.726294    90.531435    82.402699    82.402699   \n",
       "min    3731.280029  3831.010010  3699.530029  3731.280029  3731.280029   \n",
       "25%    3842.939941  3893.520020  3798.000000  3845.510010  3845.510010   \n",
       "50%    3881.439941  3932.020020  3853.060059  3882.610107  3882.610107   \n",
       "75%    3994.129883  4018.209961  3964.310059  3994.110107  3994.110107   \n",
       "max    4056.750000  4082.290039  3995.489990  4056.750000  4056.750000   \n",
       "\n",
       "             Volume  \n",
       "count  2.900000e+01  \n",
       "mean   1.203751e+08  \n",
       "std    4.070689e+07  \n",
       "min    3.189176e+07  \n",
       "25%    9.072656e+07  \n",
       "50%    1.268689e+08  \n",
       "75%    1.484907e+08  \n",
       "max    1.850366e+08  "
      ]
     },
     "execution_count": 6,
     "metadata": {},
     "output_type": "execute_result"
    }
   ],
   "source": [
    "data.describe()"
   ]
  },
  {
   "cell_type": "code",
   "execution_count": 7,
   "id": "7fc746b4",
   "metadata": {},
   "outputs": [],
   "source": [
    "datavolume = data['Volume']"
   ]
  },
  {
   "cell_type": "code",
   "execution_count": 8,
   "id": "1024bc99",
   "metadata": {},
   "outputs": [
    {
     "name": "stderr",
     "output_type": "stream",
     "text": [
      "c:\\users\\korisnik\\appdata\\local\\programs\\python\\python36\\lib\\site-packages\\seaborn\\distributions.py:2619: FutureWarning: `distplot` is a deprecated function and will be removed in a future version. Please adapt your code to use either `displot` (a figure-level function with similar flexibility) or `histplot` (an axes-level function for histograms).\n",
      "  warnings.warn(msg, FutureWarning)\n"
     ]
    },
    {
     "data": {
      "text/plain": [
       "<AxesSubplot:xlabel='Volume', ylabel='Density'>"
      ]
     },
     "execution_count": 8,
     "metadata": {},
     "output_type": "execute_result"
    },
    {
     "data": {
      "image/png": "[encoded data removed]",
      "text/plain": [
       "<Figure size 432x288 with 1 Axes>"
      ]
     },
     "metadata": {
      "needs_background": "light"
     },
     "output_type": "display_data"
    }
   ],
   "source": [
    "sns.distplot(datavolume, bins=10, hist=True, color=\"blue\", kde=True, label = 'Volume')"
   ]
  },
  {
   "cell_type": "code",
   "execution_count": 9,
   "id": "af31c43c",
   "metadata": {},
   "outputs": [
    {
     "data": {
      "text/plain": [
       "{'whiskers': [<matplotlib.lines.Line2D at 0x34da6748>,\n",
       "  <matplotlib.lines.Line2D at 0x34da6a20>],\n",
       " 'caps': [<matplotlib.lines.Line2D at 0x34da6cf8>,\n",
       "  <matplotlib.lines.Line2D at 0x34da6fd0>],\n",
       " 'boxes': [<matplotlib.lines.Line2D at 0x34da64e0>],\n",
       " 'medians': [<matplotlib.lines.Line2D at 0x34db72e8>],\n",
       " 'fliers': [<matplotlib.lines.Line2D at 0x34db7630>],\n",
       " 'means': []}"
      ]
     },
     "execution_count": 9,
     "metadata": {},
     "output_type": "execute_result"
    },
    {
     "data": {
      "image/png": "[encoded data removed]",
      "text/plain": [
       "<Figure size 432x288 with 1 Axes>"
      ]
     },
     "metadata": {
      "needs_background": "light"
     },
     "output_type": "display_data"
    }
   ],
   "source": [
    "plt.boxplot(data['Volume'])"
   ]
  },
  {
   "cell_type": "code",
   "execution_count": 10,
   "id": "19c8d429",
   "metadata": {},
   "outputs": [
    {
     "data": {
      "text/plain": [
       "-0.3010198415237664"
      ]
     },
     "execution_count": 10,
     "metadata": {},
     "output_type": "execute_result"
    }
   ],
   "source": [
    "data['Volume'].skew()"
   ]
  },
  {
   "cell_type": "code",
   "execution_count": 11,
   "id": "40022c5b",
   "metadata": {},
   "outputs": [
    {
     "data": {
      "text/plain": [
       "-0.7494528817842383"
      ]
     },
     "execution_count": 11,
     "metadata": {},
     "output_type": "execute_result"
    }
   ],
   "source": [
    "data['Volume'].kurt()"
   ]
  }
 ],
 "metadata": {
  "kernelspec": {
   "display_name": "Python 3",
   "language": "python",
   "name": "python3"
  },
  "language_info": {
   "codemirror_mode": {
    "name": "ipython",
    "version": 3
   },
   "file_extension": ".py",
   "mimetype": "text/x-python",
   "name": "python",
   "nbconvert_exporter": "python",
   "pygments_lexer": "ipython3",
   "version": "3.6.8"
  }
 },
 "nbformat": 4,
 "nbformat_minor": 5
}
